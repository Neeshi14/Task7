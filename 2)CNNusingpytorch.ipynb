{
  "cells": [
    {
      "cell_type": "markdown",
      "metadata": {
        "id": "view-in-github",
        "colab_type": "text"
      },
      "source": [
        "<a href=\"https://colab.research.google.com/github/Neeshi14/Task7/blob/main/2)CNNusingpytorch.ipynb\" target=\"_parent\"><img src=\"https://colab.research.google.com/assets/colab-badge.svg\" alt=\"Open In Colab\"/></a>"
      ]
    },
    {
      "cell_type": "code",
      "execution_count": 1,
      "metadata": {
        "id": "AMQUS3j3rmoU"
      },
      "outputs": [],
      "source": [
        "import torch\n",
        "from torchvision import datasets, transforms"
      ]
    },
    {
      "cell_type": "code",
      "execution_count": 2,
      "metadata": {
        "id": "NJfffbUwwHFl"
      },
      "outputs": [],
      "source": [
        "train_dataset = datasets.MNIST('../data', train=True, download=True,\n",
        "                              transform=transforms.ToTensor())"
      ]
    },
    {
      "cell_type": "code",
      "execution_count": 3,
      "metadata": {
        "id": "mn2yn7e1zaxb"
      },
      "outputs": [],
      "source": [
        "train_loader = torch.utils.data.DataLoader(train_dataset, batch_size=164, shuffle=True)"
      ]
    },
    {
      "cell_type": "code",
      "execution_count": 4,
      "metadata": {
        "id": "JwgUccKAWPsu"
      },
      "outputs": [],
      "source": [
        "transform = transforms.Compose([transforms.ToTensor(),\n",
        "                                transforms.Normalize((0.1307,), (0.3081,))])  #((mean,Std))"
      ]
    },
    {
      "cell_type": "code",
      "execution_count": 5,
      "metadata": {
        "id": "6g92-dhuz4zh"
      },
      "outputs": [],
      "source": [
        "test_dataset = datasets.MNIST('../data',train=False, transform=transforms.ToTensor())"
      ]
    },
    {
      "cell_type": "code",
      "execution_count": 6,
      "metadata": {
        "id": "ML0vAIVu0JCc"
      },
      "outputs": [],
      "source": [
        "test_loader = torch.utils.data.DataLoader(test_dataset,batch_size=100,shuffle=True)"
      ]
    },
    {
      "cell_type": "code",
      "execution_count": 7,
      "metadata": {
        "colab": {
          "base_uri": "https://localhost:8080/"
        },
        "id": "ipCDoLSe0gxI",
        "outputId": "5c58bc3a-4043-4826-9138-4070977646a2"
      },
      "outputs": [
        {
          "output_type": "stream",
          "name": "stdout",
          "text": [
            "TRAIN_LOADER SHAPE\n",
            "Shape of X [N, C, H, W]: torch.Size([164, 1, 28, 28])\n",
            "Shape of y: torch.Size([164]) torch.int64\n",
            "TEST_LOADER SHAPE\n",
            "Shape of X [N, C, H, W]: torch.Size([100, 1, 28, 28])\n",
            "Shape of y: torch.Size([100]) torch.int64\n"
          ]
        }
      ],
      "source": [
        "# where [N->no of sample , C-> channels, H-> height , W -> width]\n",
        "for X, Y in train_loader:\n",
        "    print(\"TRAIN_LOADER SHAPE\")\n",
        "    print(f\"Shape of X [N, C, H, W]: {X.shape}\")\n",
        "    print(f\"Shape of y: {Y.shape} {Y.dtype}\")\n",
        "    break\n",
        "for X, Y in test_loader:\n",
        "    print(\"TEST_LOADER SHAPE\")\n",
        "    print(f\"Shape of X [N, C, H, W]: {X.shape}\")\n",
        "    print(f\"Shape of y: {Y.shape} {Y.dtype}\")\n",
        "    break"
      ]
    },
    {
      "cell_type": "markdown",
      "metadata": {
        "id": "zlen-XcQ2Psk"
      },
      "source": [
        "# **Implement the CNN model**"
      ]
    },
    {
      "cell_type": "code",
      "execution_count": 8,
      "metadata": {
        "id": "Rhs4qpqm1m58"
      },
      "outputs": [],
      "source": [
        "import torch.nn as nn  # for building neural networks\n",
        "import torch.nn.functional as F # for activation function"
      ]
    },
    {
      "cell_type": "code",
      "execution_count": 9,
      "metadata": {
        "colab": {
          "base_uri": "https://localhost:8080/"
        },
        "id": "uwAnhkxq3UXf",
        "outputId": "5dcfa16a-6e29-4b2b-92a8-45b579394537"
      },
      "outputs": [
        {
          "output_type": "stream",
          "name": "stdout",
          "text": [
            "Net(\n",
            "  (conv1): Conv2d(1, 32, kernel_size=(3, 3), stride=(1, 1))\n",
            "  (conv2): Conv2d(32, 64, kernel_size=(3, 3), stride=(1, 1))\n",
            "  (conv3): Conv2d(64, 128, kernel_size=(3, 3), stride=(1, 1))\n",
            "  (conv4): Conv2d(128, 256, kernel_size=(3, 3), stride=(1, 1))\n",
            "  (dropout1): Dropout2d(p=0.25, inplace=False)\n",
            "  (dropout2): Dropout2d(p=0.5, inplace=False)\n",
            "  (dropout3): Dropout2d(p=0.25, inplace=False)\n",
            "  (conv5): Conv2d(256, 750, kernel_size=(3, 3), stride=(1, 1))\n",
            "  (fc1): Linear(in_features=750, out_features=100, bias=True)\n",
            "  (fc2): Linear(in_features=100, out_features=10, bias=True)\n",
            ")\n"
          ]
        }
      ],
      "source": [
        "class Net(nn.Module):\n",
        "  def __init__(self):\n",
        "     super(Net,self).__init__()\n",
        "     self.conv1=nn.Conv2d(1,32,3,1)#conv2d(input channel,output channel,kernel size,stride)\n",
        "     self.conv2=nn.Conv2d(32,64,3,1)\n",
        "     self.conv3=nn.Conv2d(64,128,3,1)\n",
        "     self.conv4=nn.Conv2d(128,256,3,1)\n",
        "     self.dropout1=nn.Dropout2d(0.25)\n",
        "     self.dropout2=nn.Dropout2d(0.5)\n",
        "     self.dropout3=nn.Dropout2d(0.25)\n",
        "     self.conv5=nn.Conv2d(256,750,3,1)\n",
        "     self.fc1=nn.Linear(750,100)# fully connected layer,16->input feature,100->output feature\n",
        "     self.fc2=nn.Linear(100,10)\n",
        "\n",
        "  def forward(self,x):\n",
        "    x=self.conv1(x)\n",
        "    x=F.relu(x)\n",
        "    x=self.conv2(x)\n",
        "    x=F.relu(x)\n",
        "    x=F.max_pool2d(x,kernel_size=2)\n",
        "    x=self.dropout1(x)\n",
        "\n",
        "    x=self.conv3(x)\n",
        "    x=F.relu(x)\n",
        "    x=self.conv4(x)\n",
        "    x=F.max_pool2d(x,kernel_size=2)\n",
        "    x= self.dropout2(x)\n",
        "\n",
        "    x=self.conv5(x)\n",
        "    x=F.relu(x)\n",
        "    x=F.max_pool2d(x,kernel_size=2)\n",
        "\n",
        "    x=torch.flatten(x,1)\n",
        "    x=self.fc1(x)\n",
        "    x=F.relu(x)\n",
        "    x=self.dropout3(x)\n",
        "    x=self.fc2(x)\n",
        "    output =F.softmax(x,dim=1)\n",
        "    return output\n",
        "model = Net()\n",
        "print(model)"
      ]
    },
    {
      "cell_type": "code",
      "execution_count": 10,
      "metadata": {
        "id": "FqO3gXfFBGIo"
      },
      "outputs": [],
      "source": [
        "import torch.optim as optim\n",
        "\n",
        "model = Net()  # Create an instance of your CNN model\n",
        "optimizer = optim.Adam(model.parameters(), lr=0.001)   #Parameters()->learnable parameter(likes:Weights and biases, learning rate=0.001)\n",
        "loss_fn = nn.CrossEntropyLoss()  # Choose a loss function"
      ]
    },
    {
      "cell_type": "code",
      "execution_count": 11,
      "metadata": {
        "id": "UD_KXZrl0UQF"
      },
      "outputs": [],
      "source": [
        "def train(train_loader, model, loss_fn, optimizer):\n",
        "    size = len(train_loader.dataset)\n",
        "    model.train()\n",
        "\n",
        "    for batch, (X, y) in enumerate(train_loader):\n",
        "\n",
        "        # Compute prediction error\n",
        "        predicted = model(X)\n",
        "        loss = loss_fn(predicted, y)\n",
        "\n",
        "        # Backpropagation\n",
        "        loss.backward()#Backpropagate gradients\n",
        "        optimizer.step()#update model paramenter\n",
        "        optimizer.zero_grad()#reset gradients\n",
        "\n",
        "        if batch % 100 == 0:\n",
        "            loss, current = loss.item(), (batch + 1) * len(X)\n",
        "            print(f\"loss: {loss:>7f}  [{current:>5d}/{size:>5d}]\")#The > symbols are used for formatting the output"
      ]
    },
    {
      "cell_type": "code",
      "execution_count": 12,
      "metadata": {
        "id": "48abGjkl1vyP"
      },
      "outputs": [],
      "source": [
        "def test(test_loader, model, loss_fn):\n",
        "    size = len(test_loader.dataset)\n",
        "    num_batches = len(test_loader)\n",
        "    model.eval()\n",
        "    test_loss, correct = 0, 0\n",
        "    with torch.no_grad():\n",
        "        for X, y in test_loader:\n",
        "\n",
        "            pred = model(X)\n",
        "            test_loss += loss_fn(pred, y).item()\n",
        "            correct += (pred.argmax(1) == y).type(torch.float).sum().item()\n",
        "    test_loss /= num_batches\n",
        "    correct /= size\n",
        "    print(f\"Test Error: \\n Accuracy: {(100*correct):>0.1f}%, Avg loss: {test_loss:>8f} \\n\")#The > symbols are used for formatting the output"
      ]
    },
    {
      "cell_type": "code",
      "execution_count": 13,
      "metadata": {
        "colab": {
          "base_uri": "https://localhost:8080/"
        },
        "id": "_KtE4uIkgL9m",
        "outputId": "6352d8c9-db64-49ff-b4be-2eb1316cc71b"
      },
      "outputs": [
        {
          "output_type": "stream",
          "name": "stdout",
          "text": [
            "Epoch 1\n",
            "-------------------------------\n"
          ]
        },
        {
          "output_type": "stream",
          "name": "stderr",
          "text": [
            "/usr/local/lib/python3.11/dist-packages/torch/nn/functional.py:1538: UserWarning: dropout2d: Received a 2-D input to dropout2d, which is deprecated and will result in an error in a future release. To retain the behavior and silence this warning, please use dropout instead. Note that dropout2d exists to provide channel-wise dropout on inputs with 2 spatial dimensions, a channel dimension, and an optional batch dimension (i.e. 3D or 4D inputs).\n",
            "  warnings.warn(warn_msg)\n"
          ]
        },
        {
          "output_type": "stream",
          "name": "stdout",
          "text": [
            "loss: 2.302463  [  164/60000]\n",
            "loss: 1.668871  [16564/60000]\n",
            "loss: 1.569837  [32964/60000]\n",
            "loss: 1.540231  [49364/60000]\n",
            "Test Error: \n",
            " Accuracy: 94.2%, Avg loss: 1.519473 \n",
            "\n",
            "Epoch 2\n",
            "-------------------------------\n",
            "loss: 1.554200  [  164/60000]\n",
            "loss: 1.538257  [16564/60000]\n",
            "loss: 1.501243  [32964/60000]\n",
            "loss: 1.562369  [49364/60000]\n",
            "Test Error: \n",
            " Accuracy: 96.7%, Avg loss: 1.493679 \n",
            "\n",
            "Epoch 3\n",
            "-------------------------------\n",
            "loss: 1.496409  [  164/60000]\n",
            "loss: 1.497155  [16564/60000]\n",
            "loss: 1.539236  [32964/60000]\n",
            "loss: 1.501813  [49364/60000]\n",
            "Test Error: \n",
            " Accuracy: 97.3%, Avg loss: 1.487891 \n",
            "\n",
            "Done!\n"
          ]
        }
      ],
      "source": [
        "epochs = 3\n",
        "for t in range(epochs):\n",
        "    print(f\"Epoch {t+1}\\n-------------------------------\")\n",
        "    train(train_loader, model, loss_fn, optimizer)\n",
        "    test(test_loader, model, loss_fn)\n",
        "print(\"Done!\")"
      ]
    },
    {
      "cell_type": "code",
      "execution_count": 14,
      "metadata": {
        "id": "xwJQFko2D3ZQ",
        "colab": {
          "base_uri": "https://localhost:8080/"
        },
        "outputId": "a8cd3f2e-26cf-4f3c-d207-2cc6813e6a20"
      },
      "outputs": [
        {
          "output_type": "stream",
          "name": "stdout",
          "text": [
            "Accuracy: 97.32%\n"
          ]
        }
      ],
      "source": [
        "correct_predictions = 0\n",
        "total_images = 0\n",
        "\n",
        "with torch.no_grad():  # Disable gradient calculation for testing\n",
        "    for images,label in test_loader:\n",
        "        predictions = model(images) #model's predictions for the current batch of images\n",
        "        _, predicted_class = torch.max(predictions, 1) #predicted class for each image\n",
        "        total_images += label.size(0)\n",
        "        correct_predictions += (predicted_class == label).sum().item()\n",
        "\n",
        "accuracy = 100 * correct_predictions / total_images\n",
        "print(f'Accuracy: {accuracy:.2f}%')"
      ]
    },
    {
      "cell_type": "code",
      "execution_count": 15,
      "metadata": {
        "id": "oPfMzM1D8GnQ",
        "colab": {
          "base_uri": "https://localhost:8080/",
          "height": 452
        },
        "outputId": "831e6d0d-46da-49dd-b60e-3c1eb53a6678"
      },
      "outputs": [
        {
          "output_type": "display_data",
          "data": {
            "text/plain": [
              "<Figure size 640x480 with 1 Axes>"
            ],
            "image/png": "[encoded data removed]"
          },
          "metadata": {}
        }
      ],
      "source": [
        "import matplotlib.pyplot as plt\n",
        "import numpy as np\n",
        "\n",
        "# Get a single image from the test loader\n",
        "dataiter = iter(test_loader)\n",
        "images, labels = next(dataiter)\n",
        "image = images[0]  # Get the first image\n",
        "true_label = labels[0]  # Get the true label of the first image\n",
        "\n",
        "# Make a prediction\n",
        "with torch.no_grad():\n",
        "    output = model(image.unsqueeze(0))  # Add a batch dimension\n",
        "    _, predicted = torch.max(output.data, 1)\n",
        "\n",
        "# Display the image and prediction\n",
        "plt.imshow(image.squeeze().numpy(), cmap='gray')\n",
        "plt.title(f'Prediction: {predicted.item()}, True Label: {true_label.item()}')\n",
        "plt.show()"
      ]
    },
    {
      "cell_type": "code",
      "execution_count": 16,
      "metadata": {
        "id": "yNjM6yIqGgW7",
        "colab": {
          "base_uri": "https://localhost:8080/",
          "height": 721
        },
        "outputId": "bed48c6f-42e5-4abe-984c-0277599f1af2"
      },
      "outputs": [
        {
          "output_type": "display_data",
          "data": {
            "text/plain": [
              "<Figure size 1800x1800 with 16 Axes>"
            ],
            "image/png": "[encoded data removed]"
          },
          "metadata": {}
        }
      ],
      "source": [
        "# Get a batch of images from the test loader\n",
        "images, labels = next(iter(test_loader))\n",
        "\n",
        "# Make predictions\n",
        "with torch.no_grad():\n",
        "    outputs = model(images)\n",
        "    _, predicted = torch.max(outputs.data, 1)\n",
        "\n",
        "# Display some images and their predictions\n",
        "fig, axes = plt.subplots(nrows=4, ncols=4, figsize=(18, 18))\n",
        "true_label = labels.numpy()\n",
        "for i, ax in enumerate(axes.flat):\n",
        "    ax.imshow(images[i].squeeze().numpy(), cmap='gray')\n",
        "    ax.set_title(f'Prediction: {predicted[i].item()},True Label : {true_label[i]}')\n",
        "    ax.axis('off')\n",
        "plt.show()"
      ]
    },
    {
      "cell_type": "code",
      "execution_count": 16,
      "metadata": {
        "id": "_kcnFAD8Gnsx"
      },
      "outputs": [],
      "source": []
    }
  ],
  "metadata": {
    "colab": {
      "provenance": [],
      "authorship_tag": "ABX9TyOc4uh1RSUWUHFFbFYmb+zi",
      "include_colab_link": true
    },
    "kernelspec": {
      "display_name": "Python 3",
      "name": "python3"
    },
    "language_info": {
      "name": "python"
    }
  },
  "nbformat": 4,
  "nbformat_minor": 0
}